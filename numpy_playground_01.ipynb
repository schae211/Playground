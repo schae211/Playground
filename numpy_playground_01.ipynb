{
  "nbformat": 4,
  "nbformat_minor": 0,
  "metadata": {
    "colab": {
      "name": "Numpy_Playground_01.ipynb",
      "provenance": [],
      "collapsed_sections": []
    },
    "kernelspec": {
      "name": "python3",
      "display_name": "Python 3"
    }
  },
  "cells": [
    {
      "cell_type": "code",
      "metadata": {
        "colab": {
          "base_uri": "https://localhost:8080/"
        },
        "id": "kyX6aFwP8nXB",
        "outputId": "271becd3-0478-4d16-ae50-eebb99ded4d6"
      },
      "source": [
        "import numpy as np\n",
        "\n",
        "x = np.array([3,4,5,6,4,2,1,4,6])\n",
        "\n",
        "x = x.reshape(3,3)\n",
        "\n",
        "print(x)\n",
        "\n",
        "print(np.linalg.det(x))"
      ],
      "execution_count": null,
      "outputs": [
        {
          "output_type": "stream",
          "text": [
            "[[3 4 5]\n",
            " [6 4 2]\n",
            " [1 4 6]]\n",
            "11.999999999999995\n"
          ],
          "name": "stdout"
        }
      ]
    },
    {
      "cell_type": "code",
      "metadata": {
        "colab": {
          "base_uri": "https://localhost:8080/"
        },
        "id": "UlJahhdFSJUg",
        "outputId": "101084c9-77e7-4541-b32b-ffaf3197426a"
      },
      "source": [
        "# How can you visualize 3D vectors in Python?\n",
        "y = np.array([[1, 2],[2, 1]])\n",
        "print(y)\n"
      ],
      "execution_count": null,
      "outputs": [
        {
          "output_type": "stream",
          "text": [
            "[[1 2]\n",
            " [2 1]]\n"
          ],
          "name": "stdout"
        }
      ]
    },
    {
      "cell_type": "code",
      "metadata": {
        "colab": {
          "base_uri": "https://localhost:8080/",
          "height": 265
        },
        "id": "eR3mPGbASzP-",
        "outputId": "d069bd88-4c82-4e61-d6a9-b42b733f82a4"
      },
      "source": [
        "import numpy as np\n",
        "import matplotlib.pyplot as plt\n",
        "\n",
        "vec_1 = np.array([2, 3])\n",
        "vec_2 = np.array([-4, 2])\n",
        "vec_3 = vec_1 + vec_2\n",
        "V = np.array([[1,1], [-2,2], [4,-7]])\n",
        "origin = np.array([[0, 0, 0],[0, 0, 0]]) # origin point\n",
        "\n",
        "plt.quiver(*origin, vec_1[0], vec_1[1], color=\"b\", scale=21)\n",
        "plt.quiver(*origin, vec_2[0], vec_2[1], color=\"y\", scale=21)\n",
        "plt.quiver(*origin, vec_3[0], vec_3[1], color=\"g\", scale=21)\n",
        "plt.show()"
      ],
      "execution_count": null,
      "outputs": [
        {
          "output_type": "display_data",
          "data": {
            "image/png": "[encoded data removed]",
            "text/plain": [
              "<Figure size 432x288 with 1 Axes>"
            ]
          },
          "metadata": {
            "tags": [],
            "needs_background": "light"
          }
        }
      ]
    },
    {
      "cell_type": "code",
      "metadata": {
        "colab": {
          "base_uri": "https://localhost:8080/",
          "height": 299
        },
        "id": "lCPDrt6UWmPa",
        "outputId": "3f6078fa-de27-49c5-d5ba-1d66946933d9"
      },
      "source": [
        "i_hat = np.array([1, 0])\n",
        "j_hat = np.array([0, 1])\n",
        "vec_1 = np.array([2, 2])\n",
        "trans_matrix = np.array([[0, -1],[1, 0]])\n",
        "vec_1_transform = trans_matrix.dot(vec_1)\n",
        "print(trans_matrix)\n",
        "origin = np.array([[0, 0],[0, 0]])\n",
        "\n",
        "plt.quiver(*origin, np.array([i_hat[0], j_hat[0]]), np.array([i_hat[1], j_hat[1]]), color=[\"black\"], scale=15)\n",
        "plt.quiver(*origin, vec_1[0], vec_1[1], color=\"r\", scale=15)\n",
        "plt.quiver(*origin, vec_1_transform[0], vec_1_transform[1], color=\"b\", scale=15)\n",
        "plt.quiver(*origin, 2, 1, color=\"green\", scale=15)\n",
        "plt.show()"
      ],
      "execution_count": 54,
      "outputs": [
        {
          "output_type": "stream",
          "text": [
            "[[ 0 -1]\n",
            " [ 1  0]]\n"
          ],
          "name": "stdout"
        },
        {
          "output_type": "display_data",
          "data": {
            "image/png": "[encoded data removed]",
            "text/plain": [
              "<Figure size 432x288 with 1 Axes>"
            ]
          },
          "metadata": {
            "tags": [],
            "needs_background": "light"
          }
        }
      ]
    }
  ]
}
